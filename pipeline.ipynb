{
 "cells": [
  {
   "cell_type": "code",
   "execution_count": null,
   "metadata": {},
   "outputs": [],
   "source": [
    "%%capture\n",
    "from google.colab import drive\n",
    "drive.mount('/content/drive')\n",
    "! pip install -q yt-dlp\n",
    "! git clone https://github.com/saeedzou/yt_crawl_fa.git\n",
    "%cd yt_crawl_fa\n",
    "! gdown 1xSH-H2FEMpf5uVXS5SIk0Tj2IpBO54uV # filtered_normalized_fawiki.txt"
   ]
  },
  {
   "cell_type": "code",
   "execution_count": null,
   "metadata": {},
   "outputs": [],
   "source": [
    "batch_number = 0\n",
    "batch_size = 25"
   ]
  },
  {
   "cell_type": "code",
   "execution_count": null,
   "metadata": {},
   "outputs": [],
   "source": [
    "! python obtain_video_id.py filtered_normalized_fawiki.txt --batch_size $batch_size --batch_number $batch_number"
   ]
  },
  {
   "cell_type": "code",
   "execution_count": null,
   "metadata": {},
   "outputs": [],
   "source": [
    "! python retrieve_subtitle_exists.py fa videoid/filtered_normalized_fawiki.csv --outdir /content/drive/MyDrive/YouTube_Crawl --checkpoint filtered_normalized_fawiki.csv"
   ]
  },
  {
   "cell_type": "code",
   "execution_count": null,
   "metadata": {},
   "outputs": [],
   "source": [
    "from google.colab import files, runtime\n",
    "files.download('/content/drive/MyDrive/YouTube_Crawl/filtered_normalized_fawiki.csv') \n",
    "runtime.unassign()"
   ]
  }
 ],
 "metadata": {
  "kernelspec": {
   "display_name": "base",
   "language": "python",
   "name": "python3"
  },
  "language_info": {
   "name": "python",
   "version": "3.10.13"
  }
 },
 "nbformat": 4,
 "nbformat_minor": 2
}
