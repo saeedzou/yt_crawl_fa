{
 "cells": [
  {
   "cell_type": "code",
   "execution_count": 1,
   "metadata": {},
   "outputs": [
    {
     "name": "stdout",
     "output_type": "stream",
     "text": [
      "Merged and filtered CSVs saved as 'merged_filtered_videos.csv'\n"
     ]
    }
   ],
   "source": [
    "import pandas as pd\n",
    "import os\n",
    "\n",
    "# Initialize an empty list to hold dataframes\n",
    "dataframes = []\n",
    "\n",
    "# Load all filtered CSVs from the 'metadatas' directory\n",
    "for file in os.listdir('metadatas'):\n",
    "    if file.startswith('filtered') and file.endswith('.csv'):\n",
    "        filepath = os.path.join('metadatas', file)\n",
    "        df = pd.read_csv(filepath)\n",
    "        dataframes.append(df)\n",
    "\n",
    "# Concatenate all dataframes\n",
    "merged_df = pd.concat(dataframes, ignore_index=True)\n",
    "\n",
    "# Sort by good_sub (True first) and remove duplicates by videoid\n",
    "merged_df = merged_df.sort_values(by='good_sub', ascending=False).drop_duplicates(subset='videoid', keep='first')\n",
    "\n",
    "# Save the final dataframe to a new CSV file (optional)\n",
    "merged_df.to_csv('metadata.csv', index=False)\n",
    "\n",
    "print(\"Merged and filtered CSVs saved as 'merged_filtered_videos.csv'\")\n"
   ]
  }
 ],
 "metadata": {
  "kernelspec": {
   "display_name": "base",
   "language": "python",
   "name": "python3"
  },
  "language_info": {
   "codemirror_mode": {
    "name": "ipython",
    "version": 3
   },
   "file_extension": ".py",
   "mimetype": "text/x-python",
   "name": "python",
   "nbconvert_exporter": "python",
   "pygments_lexer": "ipython3",
   "version": "3.10.13"
  }
 },
 "nbformat": 4,
 "nbformat_minor": 2
}
